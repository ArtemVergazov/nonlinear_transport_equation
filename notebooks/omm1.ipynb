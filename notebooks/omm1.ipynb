{
 "cells": [
  {
   "cell_type": "markdown",
   "source": [
    "# Условие задачи\n",
    "Используя схему бегущего счета и итерационные методы, решить задачу для квазилинейного уравнением переноса:\n",
    "$$\n",
    "\\begin{equation*}\n",
    " \\begin{cases}\n",
    "   \\frac{\\partial u}{\\partial t} - u \\frac{\\partial u}{\\partial x} = 0, -1 \\leqslant x < 0\n",
    "   \\\\\n",
    "   u(x, 0) = \\phi(x)\n",
    "   \\\\\n",
    "   u(0, t) = \\mu(t)\n",
    " \\end{cases}\n",
    "\\end{equation*}\n",
    "$$\n",
    "где:"
   ],
   "metadata": {
    "collapsed": false
   }
  },
  {
   "cell_type": "markdown",
   "source": [
    "$$\n",
    "\\phi(x) = 2 - \\frac{4}{\\pi}arctg(x + 2)\n",
    "$$"
   ],
   "metadata": {
    "collapsed": false
   }
  },
  {
   "cell_type": "markdown",
   "source": [
    "$$\n",
    "\\mu(t) = (2 - \\frac{4}{\\pi}arctg2)e^{-t}\n",
    "$$"
   ],
   "metadata": {
    "collapsed": false
   }
  },
  {
   "cell_type": "markdown",
   "source": [
    "Находим характеристики:"
   ],
   "metadata": {
    "collapsed": false
   }
  },
  {
   "cell_type": "markdown",
   "source": [
    "$$\n",
    "\\frac{dt}{1}=\\frac{dx}{-1}=\\frac{du}{0}\n",
    "$$"
   ],
   "metadata": {
    "collapsed": false
   }
  },
  {
   "cell_type": "markdown",
   "source": [
    "$$\n",
    "\\begin{equation*}\n",
    "\\begin{cases}\n",
    "    u = u(x_0, t_0) = const\n",
    "    \\\\\n",
    "    t - t_0 = - \\frac{1}{u}(x - x_0)\n",
    "\\end{cases}\n",
    "\\end{equation*}\n",
    "$$"
   ],
   "metadata": {
    "collapsed": false
   }
  },
  {
   "cell_type": "markdown",
   "source": [
    "$$\n",
    "t_0 = 0: t = - \\frac{1}{\\phi(x_0)}(x - x_0)\n",
    "$$"
   ],
   "metadata": {
    "collapsed": false
   }
  },
  {
   "cell_type": "markdown",
   "source": [
    "$$\n",
    "x_0 = 0: t = - \\frac{x}{\\mu(t_0)} + t_0\n",
    "$$"
   ],
   "metadata": {
    "collapsed": false
   }
  },
  {
   "cell_type": "markdown",
   "source": [
    "Зададим параметры уравнения:"
   ],
   "metadata": {
    "collapsed": false
   }
  },
  {
   "cell_type": "code",
   "execution_count": null,
   "outputs": [],
   "source": [
    "import matplotlib.pyplot as plt\n",
    "import numpy as np\n",
    "from mpl_toolkits.mplot3d import Axes3D\n",
    "from IPython.display import Image"
   ],
   "metadata": {
    "collapsed": false,
    "pycharm": {
     "name": "#%%\n"
    }
   }
  },
  {
   "cell_type": "code",
   "execution_count": null,
   "outputs": [],
   "source": [
    "a = -1.  # левый конец области по x\n",
    "b = 0.  # правый конец области по x\n",
    "T = 1.  # расчетное время\n",
    "\n",
    "m = 50  # число интервалов по x\n",
    "n = 50  # число интервалов по t\n",
    "\n",
    "tau = T / m  # шаг по времени\n",
    "h = (b - a) / n  # шаг по x"
   ],
   "metadata": {
    "collapsed": false,
    "pycharm": {
     "name": "#%%\n"
    }
   }
  },
  {
   "cell_type": "markdown",
   "source": [
    "Введем равномерную сетку по x и t:\n",
    "    - число шагов - n и m соответственно\n",
    "    - число узлов - n + 1 и m + 1 соответственно\n",
    "Нумерацию узлов будем вести от 0 до n, m соответственно"
   ],
   "metadata": {
    "collapsed": false
   }
  },
  {
   "cell_type": "code",
   "execution_count": null,
   "outputs": [],
   "source": [
    "t = np.linspace(0, T, m + 1)  # число шагов - m + 1\n",
    "x = np.linspace(a, b, n + 1)  # число шагов - n + 1"
   ],
   "metadata": {
    "collapsed": false,
    "pycharm": {
     "name": "#%%\n"
    }
   }
  },
  {
   "cell_type": "markdown",
   "source": [
    "Зададим функции начальных и граничных условий:"
   ],
   "metadata": {
    "collapsed": false
   }
  },
  {
   "cell_type": "code",
   "execution_count": null,
   "outputs": [],
   "source": [
    "def phi(x):\n",
    "    # x - NumPy array\n",
    "    return 2 - 4 / np.pi * np.arctan(x + 2)\n",
    "\n",
    "\n",
    "def mu(t):\n",
    "    # t - NumPy array\n",
    "    return (2 - 4 / np.pi * np.arctan(2)) * np.exp(-t)"
   ],
   "metadata": {
    "collapsed": false,
    "pycharm": {
     "name": "#%%\n"
    }
   }
  },
  {
   "cell_type": "markdown",
   "source": [
    "Теперь можно построить два семейства характеристик:"
   ],
   "metadata": {
    "collapsed": false
   }
  },
  {
   "cell_type": "code",
   "execution_count": null,
   "outputs": [],
   "source": [
    "def ch1(x, x0):\n",
    "    # t0 = 0\n",
    "    return -1 / phi(x0) * (x - x0)\n",
    "\n",
    "\n",
    "def ch2(x, t0):\n",
    "    # x0 = 0\n",
    "    return -x / mu(t0) + t0"
   ],
   "metadata": {
    "collapsed": false,
    "pycharm": {
     "name": "#%%\n"
    }
   }
  },
  {
   "cell_type": "code",
   "execution_count": null,
   "outputs": [],
   "source": [
    "# по 5 линий каждого семейства\n",
    "t0mesh = np.linspace(0, T, 10)\n",
    "x0mesh = np.linspace(a, b, 10)\n",
    "\n",
    "for x0 in x0mesh:\n",
    "    line_t, = plt.plot(x, ch1(x, x0), \"g-\")\n",
    "for t0 in t0mesh:\n",
    "    line_x, = plt.plot(x, ch2(x, t0), \"r-\")\n",
    "plt.title(\"Проекции характеристик\")\n",
    "plt.xlabel(\"x\")\n",
    "plt.ylabel(\"t\")\n",
    "plt.legend((line_t, line_x), (\"t$_{0}$=0\", \"x$_{0}$=0\"))"
   ],
   "metadata": {
    "collapsed": false,
    "pycharm": {
     "name": "#%%\n"
    }
   }
  },
  {
   "cell_type": "markdown",
   "source": [
    "Характеристики не пересекаются, значит разрывов не будет. Этого следовало ожидать, ведь НУ и ГУ строго монотонны, согласованы и непрерывны."
   ],
   "metadata": {
    "collapsed": false
   }
  },
  {
   "cell_type": "markdown",
   "source": [
    "# Численное решение\n",
    "Приведем уравнение к дивергентному виду:\n",
    "$$\n",
    "\\frac{\\partial u}{\\partial t} - \\frac{\\partial}{\\partial x}(\\frac{u^2}{2}) = 0, -1 \\leqslant x < 0\n",
    "$$"
   ],
   "metadata": {
    "collapsed": false
   }
  },
  {
   "cell_type": "markdown",
   "source": [
    "Будем использовать неявный трехточечный шаблон. Он безусловно устойчив для случая отрицательной скорости переноса. Аппроксимирует схему с первым порядком точности."
   ],
   "metadata": {
    "collapsed": false
   }
  },
  {
   "cell_type": "code",
   "execution_count": null,
   "outputs": [],
   "source": [
    "Image(filename='pattern.png')"
   ],
   "metadata": {
    "collapsed": false,
    "pycharm": {
     "name": "#%%\n"
    }
   }
  },
  {
   "cell_type": "markdown",
   "source": [
    "Составим разностную аппроксимацию уравнения:"
   ],
   "metadata": {
    "collapsed": false
   }
  },
  {
   "cell_type": "markdown",
   "source": [
    "$$\n",
    "\\begin{equation*}\n",
    "    \\begin{cases}\n",
    "        \\frac{y_i^{j + 1} - y_i^j}{\\tau} - \\frac{({y_{i + 1}^{j + 1}})^2 - ({y_i^{j + 1}})^2}{h} = 0, \n",
    "        i = \\overline{0, n - 1}, j = \\overline{1, m}\n",
    "        \\\\\n",
    "        y_i^0 = \\phi(x_i), i = \\overline{0, n}\n",
    "        \\\\\n",
    "        y_n^j = \\mu(t_j), j = \\overline{0, m}\n",
    "    \\end{cases}\n",
    "\\end{equation*}\n",
    "$$"
   ],
   "metadata": {
    "collapsed": false
   }
  },
  {
   "cell_type": "markdown",
   "source": [
    "В схеме бегущего счета будем двигаться от правого края к левому, тогда нам на каждом шаге будут известны $y_i^j$ и $y_{i + 1}^{j + 1}$. Неизвестным будет только $y_i^{j + 1}$. Мы будем находить его из нелинейного уравнения методом Ньютона."
   ],
   "metadata": {
    "collapsed": false
   }
  },
  {
   "cell_type": "code",
   "execution_count": null,
   "outputs": [],
   "source": [
    "def newton(f, Df, x0=0, epsilon=1e-6, max_iter=100):\n",
    "    '''Approximate solution of f(x)=0 by Newton's method.\n",
    "\n",
    "    Parameters\n",
    "    ----------\n",
    "    f: function\n",
    "        Function for which we are searching for a solution f(x)=0.\n",
    "    Df: function\n",
    "        Derivative of f(x).\n",
    "    x0: number\n",
    "        Initial guess for a solution f(x)=0.\n",
    "    epsilon: number\n",
    "        Stopping criteria is abs(f(x)) < epsilon.\n",
    "    max_iter: integer\n",
    "        Maximum number of iterations of Newton's method.\n",
    "\n",
    "    Returns\n",
    "    -------\n",
    "    xn: number\n",
    "        Implement Newton's method: compute the linear approximation\n",
    "        of f(x) at xn and find x intercept by the formula\n",
    "            x = xn - f(xn) / Df(xn)\n",
    "        Continue until abs(f(xn)) < epsilon and return xn.\n",
    "        If Df(xn) == 0, return None. If the number of iterations\n",
    "        exceeds max_iter, then return None.\n",
    "\n",
    "    Examples\n",
    "    --------\n",
    "    >>> f = lambda x: x ** 2 - x - 1\n",
    "    >>> Df = lambda x: 2 * x - 1\n",
    "    >>> newton(f, Df, 1, 1e-8, 10)\n",
    "    Found solution after 5 iterations.\n",
    "    1.618033988749989\n",
    "    '''\n",
    "    xn = x0\n",
    "    for n in range(0, max_iter):\n",
    "        fxn = f(xn)\n",
    "        if abs(fxn) < epsilon:\n",
    "            return xn\n",
    "        Dfxn = Df(xn)\n",
    "        if Dfxn == 0:\n",
    "            return None\n",
    "        xn = xn - fxn / Dfxn\n",
    "    return None"
   ],
   "metadata": {
    "collapsed": false,
    "pycharm": {
     "name": "#%%\n"
    }
   }
  },
  {
   "cell_type": "markdown",
   "source": [
    "Зададим точность и максимальное число итераций в методе Ньютона"
   ],
   "metadata": {
    "collapsed": false
   }
  },
  {
   "cell_type": "code",
   "execution_count": null,
   "outputs": [],
   "source": [
    "eps = 1e-6\n",
    "max_it = 100"
   ],
   "metadata": {
    "collapsed": false,
    "pycharm": {
     "name": "#%%\n"
    }
   }
  },
  {
   "cell_type": "markdown",
   "source": [
    "Создадим массив нулей размером (m + 1, n + 1), и заполним НУ и ГУ"
   ],
   "metadata": {
    "collapsed": false
   }
  },
  {
   "cell_type": "code",
   "execution_count": null,
   "outputs": [],
   "source": [
    "y = np.zeros((m + 1, n + 1))\n",
    "y[0, :] = phi(x)\n",
    "y[:, -1] = mu(t)"
   ],
   "metadata": {
    "collapsed": false,
    "pycharm": {
     "name": "#%%\n"
    }
   }
  },
  {
   "cell_type": "code",
   "execution_count": null,
   "outputs": [],
   "source": [
    "for j in range(m):\n",
    "    for i in range(n - 1, -1, -1):\n",
    "        # f = 0 -> y_i^{j + 1}\n",
    "        f = lambda x: (x - y[j, i]) / tau - (x ** 2 - y[j + 1, i] ** 2) / h\n",
    "        # берем правую производную, потому что значение справа всегда известно. Первый порядок точности нас устраивает\n",
    "        Df = lambda x: (f(x + h) - f(x)) / h\n",
    "        # находим y_i^{j + 1} методом Ньютона. В качестве начального приближения берем значение y в соседнем узле.\n",
    "        y[j + 1, i] = newton(f, Df, y[j + 1, i + 1], eps, max_it)"
   ],
   "metadata": {
    "collapsed": false,
    "pycharm": {
     "name": "#%%\n"
    }
   }
  },
  {
   "cell_type": "markdown",
   "source": [
    "Построим график полученного решения:"
   ],
   "metadata": {
    "collapsed": false
   }
  },
  {
   "cell_type": "code",
   "execution_count": null,
   "outputs": [],
   "source": [
    "xmesh, tmesh = np.meshgrid(x, t)\n",
    "ax = plt.figure().add_subplot(111, projection='3d')\n",
    "ax.plot_surface(xmesh, tmesh, y, cmap='winter', edgecolor='None')\n",
    "ax.set_xlabel('x')\n",
    "ax.set_ylabel('t')\n",
    "ax.set_zlabel(\"y\")\n",
    "ax.set_title(\"Численное решение\")\n",
    "plt.show()"
   ],
   "metadata": {
    "collapsed": false,
    "pycharm": {
     "name": "#%%\n"
    }
   }
  },
  {
   "cell_type": "code",
   "execution_count": null,
   "outputs": [],
   "source": [],
   "metadata": {
    "collapsed": false,
    "pycharm": {
     "name": "#%%\n"
    }
   }
  }
 ],
 "metadata": {
  "kernelspec": {
   "display_name": "Python 3",
   "language": "python",
   "name": "python3"
  },
  "language_info": {
   "codemirror_mode": {
    "name": "ipython",
    "version": 3
   },
   "file_extension": ".py",
   "mimetype": "text/x-python",
   "name": "python",
   "nbconvert_exporter": "python",
   "pygments_lexer": "ipython3",
   "version": "3.6.5"
  }
 },
 "nbformat": 4,
 "nbformat_minor": 1
}